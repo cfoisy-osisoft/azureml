{
 "cells": [
  {
   "cell_type": "markdown",
   "metadata": {},
   "source": [
    "# Create model to predict Active Power for Wind Turbines at Windy Hill Wind Turbine farm"
   ]
  },
  {
   "cell_type": "code",
   "execution_count": 1,
   "metadata": {},
   "outputs": [],
   "source": [
    "from azureml.core import Workspace\n",
    "from azureml.core.model import Model\n",
    "from azureml.core import Run\n",
    "import os "
   ]
  },
  {
   "cell_type": "code",
   "execution_count": 2,
   "metadata": {},
   "outputs": [],
   "source": [
    "# get workspace configuration\n",
    "from azureml.core import Workspace\n",
    "ws = Workspace.from_config()"
   ]
  },
  {
   "cell_type": "code",
   "execution_count": null,
   "metadata": {},
   "outputs": [],
   "source": [
    "ws = Workspace.from_config()\n",
    "print('Workspace name: ' + ws.name, \n",
    "      'Azure region: ' + ws.location, \n",
    "      'Subscription id: ' + ws.subscription_id, \n",
    "      'Resource group: ' + ws.resource_group, sep='\\n')"
   ]
  },
  {
   "cell_type": "code",
   "execution_count": 4,
   "metadata": {},
   "outputs": [],
   "source": [
    "# get experiemnt\n",
    "from azureml.core import Experiment\n",
    "experiment = Experiment(workspace=ws, name=\"turbines\")"
   ]
  },
  {
   "cell_type": "code",
   "execution_count": null,
   "metadata": {},
   "outputs": [],
   "source": [
    "print(ws.datasets)"
   ]
  },
  {
   "cell_type": "code",
   "execution_count": null,
   "metadata": {},
   "outputs": [],
   "source": [
    "ws.datasets.get('turbines')"
   ]
  },
  {
   "cell_type": "code",
   "execution_count": 7,
   "metadata": {},
   "outputs": [],
   "source": [
    "# load dataset\n",
    "from azureml.core import Dataset\n",
    "datastore = ws.get_default_datastore()\n",
    "dataset = Dataset.Tabular.from_delimited_files(path = [(datastore, 'UI/03-29-2020_090748_UTC/turbines_filtered.csv')])\n",
    "df_turbines = dataset.to_pandas_dataframe()"
   ]
  },
  {
   "cell_type": "code",
   "execution_count": 8,
   "metadata": {},
   "outputs": [
    {
     "name": "stdout",
     "output_type": "stream",
     "text": [
      "<class 'pandas.core.frame.DataFrame'>\n",
      "RangeIndex: 20831 entries, 0 to 20830\n",
      "Data columns (total 11 columns):\n",
      "Timestamp           20831 non-null datetime64[ns]\n",
      "Turbine             20831 non-null object\n",
      "Blade1 Actual       20831 non-null float64\n",
      "Blade2 Actual       20831 non-null float64\n",
      "Blade3 Actual       20831 non-null float64\n",
      "Rotor Speed         20831 non-null float64\n",
      "State               20831 non-null int64\n",
      "Active Power        20831 non-null float64\n",
      "Nacelle Position    20831 non-null float64\n",
      "Air Temperature     20831 non-null float64\n",
      "Wind Speed          20831 non-null float64\n",
      "dtypes: datetime64[ns](1), float64(8), int64(1), object(1)\n",
      "memory usage: 1.7+ MB\n"
     ]
    }
   ],
   "source": [
    "# verify\n",
    "df_turbines.info()"
   ]
  },
  {
   "cell_type": "code",
   "execution_count": 9,
   "metadata": {},
   "outputs": [],
   "source": [
    "#Prepare the training & testing/scoring data sets, and split them randomly\n",
    "from sklearn.preprocessing import PolynomialFeatures\n",
    "from sklearn.linear_model import LinearRegression\n",
    "from sklearn.metrics import mean_squared_error, r2_score\n",
    "from sklearn.model_selection import train_test_split\n",
    "import numpy as np\n",
    "#define the target variable to be predicted\n",
    "y = df_turbines['Active Power'].values\n",
    "\n",
    "# second part of this is done below in a loop to allow multiple models to be tested with different features sets"
   ]
  },
  {
   "cell_type": "code",
   "execution_count": 10,
   "metadata": {},
   "outputs": [],
   "source": [
    "# create function to create a polynomial regression model based upon recommendations from various scientific papers including: https://www.hindawi.com/journals/jen/2016/8519785\n",
    "# function below care of Animesh Agarwal:\n",
    "# https://towardsdatascience.com/polynomial-regression-bbe8b9d97491\n",
    "# https://github.com/animesh-agarwal/Machine-Learning-Datasets/blob/master/boston-housing/Polynomial_Regression.ipynb\n",
    "\n",
    "def create_polynomial_regression_model(degree):\n",
    "  \"Creates a polynomial regression model for the given degree\"\n",
    "  poly_features = PolynomialFeatures(degree=degree)\n",
    "  \n",
    "  # transform the features to higher degree features.\n",
    "  X_train_poly = poly_features.fit_transform(X_train)\n",
    "  \n",
    "  # fit the transformed features to Linear Regression\n",
    "  poly_model = LinearRegression()\n",
    "  poly_model.fit(X_train_poly, y_train)\n",
    "  \n",
    "  # predicting on training data-set\n",
    "  y_train_predicted = poly_model.predict(X_train_poly)\n",
    "  \n",
    "  # predicting on test data-set\n",
    "  y_test_predict = poly_model.predict(poly_features.fit_transform(X_test))\n",
    "  \n",
    "  # evaluating the model on training dataset\n",
    "  rmse_train = np.sqrt(mean_squared_error(y_train, y_train_predicted))\n",
    "  r2_train = r2_score(y_train, y_train_predicted)\n",
    "  \n",
    "  # evaluating the model on test dataset\n",
    "  rmse_test = np.sqrt(mean_squared_error(y_test, y_test_predict))\n",
    "  r2_test = r2_score(y_test, y_test_predict)\n",
    "\n",
    "  return {'model':poly_model,'rmse_train':rmse_train,'r2_train':r2_train,'rmse_test':rmse_test,'r2_test':r2_test}"
   ]
  },
  {
   "cell_type": "code",
   "execution_count": 11,
   "metadata": {},
   "outputs": [],
   "source": [
    "# Run a set of models and log information to the azure ml studio\n",
    "\n",
    "import joblib # this is required, because there is also a joblib in sklearn\n",
    "\n",
    "logging_azure = False # to log or not to log, for testing\n",
    "debug = False # output more information\n",
    "\n",
    "turbine_models = [] # results\n",
    "\n",
    "# names for each feature set we want to test\n",
    "features = [\"Wind\",\"Wind_Air\"]\n",
    "# features for each of those feature sets\n",
    "feature_set = (['Wind Speed'],['Air Temperature','Wind Speed'])\n",
    "\n",
    "# run for each set of features\n",
    "for feature in range(0,len(features)):\n",
    "    # split data based upon featues for this run\n",
    "    X_train, X_test, y_train, y_test = train_test_split(df_turbines[feature_set[feature]].values, \n",
    "                                                         y, test_size=0.25, random_state=42)\n",
    "    # for each degree in relation to polynomial regression\n",
    "    for degree in (2,3,4):\n",
    "        if logging_azure:\n",
    "            run = experiment.start_logging()\n",
    "            run.log(\"features\", features[feature])\n",
    "            run.log(\"degree\",degree)\n",
    "        # run the model and store the output\n",
    "        turbine_models.append(create_polynomial_regression_model(degree))\n",
    "        if logging_azure:\n",
    "            # log model errors\n",
    "            for error in 'rmse_train','r2_train','rmse_test','r2_test':\n",
    "                if debug:\n",
    "                    print(f'{error},{turbine_models[-1][error]}')\n",
    "                run.log(f'{error}',f'{turbine_models[-1][error]}')\n",
    "        if debug:\n",
    "            print(f\"\"\"{turbine_models[-1]['rmse_train']}\n",
    "                      {turbine_models[-1]['r2_train']}\n",
    "                      {turbine_models[-1]['rmse_test']}\n",
    "                      {turbine_models[-1]['r2_test']}\n",
    "                      \"\"\")\n",
    "        if logging_azure:\n",
    "            # save the model to azure ml\n",
    "            model_name = f'{features[feature]}_{degree}.pkl'\n",
    "            filename = f'outputs/{model_name}'\n",
    "            joblib.dump(value=turbine_models[-1]['model'], filename=filename)\n",
    "            run.upload_file(name=model_name, path_or_stream=filename)\n",
    "            run.complete()"
   ]
  },
  {
   "cell_type": "code",
   "execution_count": null,
   "metadata": {},
   "outputs": [],
   "source": [
    "# get a link to the azure ml portal for this experiement\n",
    "experiment"
   ]
  },
  {
   "cell_type": "code",
   "execution_count": 13,
   "metadata": {},
   "outputs": [
    {
     "name": "stdout",
     "output_type": "stream",
     "text": [
      "Best run_id: fd3e84ae-7c00-4b8b-bac4-6539cac430a3\n",
      "Best run_id rmse: 128.5577883507858\n"
     ]
    }
   ],
   "source": [
    "# run review metrics\n",
    "\n",
    "minimum_rmse_runid = None\n",
    "minimum_rmse = None\n",
    "\n",
    "for run in experiment.get_runs():\n",
    "    run_metrics = run.get_metrics()\n",
    "    run_details = run.get_details()\n",
    "    # each logged metric becomes a key in this returned dict\n",
    "    try:\n",
    "        run_rmse = run_metrics[\"rmse_test\"]\n",
    "        run_id = run_details[\"runId\"]\n",
    "\n",
    "        if minimum_rmse is None:\n",
    "            minimum_rmse = run_rmse\n",
    "            minimum_rmse_runid = run_id\n",
    "        else:\n",
    "            if run_rmse < minimum_rmse:\n",
    "                minimum_rmse = run_rmse\n",
    "                minimum_rmse_runid = run_id\n",
    "    except:\n",
    "        # most likely here if a run does not have a metric: rmse\n",
    "        pass\n",
    "print(\"Best run_id: \" + minimum_rmse_runid)\n",
    "print(\"Best run_id rmse: \" + str(minimum_rmse))  "
   ]
  },
  {
   "cell_type": "markdown",
   "metadata": {},
   "source": [
    "## save and register model"
   ]
  },
  {
   "cell_type": "code",
   "execution_count": 14,
   "metadata": {},
   "outputs": [
    {
     "data": {
      "text/plain": [
       "'Wind_Air_4.pkl'"
      ]
     },
     "execution_count": 14,
     "metadata": {},
     "output_type": "execute_result"
    }
   ],
   "source": [
    "# identify model\n",
    "\n",
    "best_run = Run(experiment=experiment, run_id=minimum_rmse_runid)\n",
    "model_file_name = best_run.get_file_names()[0]\n",
    "model_file_name"
   ]
  },
  {
   "cell_type": "code",
   "execution_count": 15,
   "metadata": {},
   "outputs": [
    {
     "data": {
      "text/plain": [
       "['Wind_Air_4.pkl']"
      ]
     },
     "execution_count": 15,
     "metadata": {},
     "output_type": "execute_result"
    }
   ],
   "source": [
    "# save the model to the filesystem\n",
    "joblib.dump(value=turbine_models[-1]['model'], filename=model_file_name)"
   ]
  },
  {
   "cell_type": "code",
   "execution_count": null,
   "metadata": {},
   "outputs": [],
   "source": [
    "# run model from filesystem - joblib created file\n",
    "\n",
    "print(os.getcwd(),model_file_name)\n",
    "turbine_model = joblib.load(os.path.join(os.getcwd(), model_file_name))\n",
    "\n",
    "print(type(turbine_model))\n",
    "new_input = [[45, 6.6]] #Temp=45 F, Wind Speed = 6.6 m/s\n",
    "poly_features = PolynomialFeatures(degree=degree)\n",
    "turbine_model.predict(poly_features.fit_transform(new_input))"
   ]
  },
  {
   "cell_type": "code",
   "execution_count": 17,
   "metadata": {},
   "outputs": [
    {
     "name": "stdout",
     "output_type": "stream",
     "text": [
      "turbineActivePower\tturbineActivePower:15\t15\n"
     ]
    }
   ],
   "source": [
    "# register model \n",
    "model = run.register_model(model_name='turbineActivePower', model_path=model_file_name)\n",
    "print(model.name, model.id, model.version, sep='\\t')"
   ]
  },
  {
   "cell_type": "markdown",
   "metadata": {},
   "source": [
    "## load and test model"
   ]
  },
  {
   "cell_type": "code",
   "execution_count": null,
   "metadata": {},
   "outputs": [],
   "source": [
    "\n",
    "model_file_name = 'Wind_Air_4.pkl'\n",
    "ws = Workspace.from_config()\n",
    "model=Model(ws, 'turbineActivePower')\n",
    "\n",
    "print(f'model version: {model.version}')\n",
    "# download the model\n",
    "print(model.download(target_dir=os.getcwd(), exist_ok=True))\n",
    "\n",
    "# verify the downloaded model file\n",
    "file_path = os.path.join(os.getcwd(), model_file_name)\n",
    "os.stat(file_path)"
   ]
  },
  {
   "cell_type": "code",
   "execution_count": null,
   "metadata": {},
   "outputs": [],
   "source": [
    "# run model from filesystem - downloaded\n",
    "\n",
    "print(os.getcwd(),model_file_name)\n",
    "turbine_model = joblib.load(os.path.join(os.getcwd(), model_file_name))\n",
    "\n",
    "print(type(turbine_model))\n",
    "new_input = [[45, 6.6]] #Temp=45 F, Wind Speed = 6.6 m/s\n",
    "poly_features = PolynomialFeatures(degree=degree)\n",
    "turbine_model.predict(poly_features.fit_transform(new_input))"
   ]
  }
 ],
 "metadata": {
  "kernelspec": {
   "display_name": "Python 3.6 - AzureML",
   "language": "python",
   "name": "python3-azureml"
  },
  "language_info": {
   "codemirror_mode": {
    "name": "ipython",
    "version": 3
   },
   "file_extension": ".py",
   "mimetype": "text/x-python",
   "name": "python",
   "nbconvert_exporter": "python",
   "pygments_lexer": "ipython3",
   "version": "3.6.9"
  }
 },
 "nbformat": 4,
 "nbformat_minor": 4
}
